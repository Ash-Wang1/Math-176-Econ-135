{
  "nbformat": 4,
  "nbformat_minor": 0,
  "metadata": {
    "colab": {
      "provenance": []
    },
    "kernelspec": {
      "name": "python3",
      "display_name": "Python 3"
    },
    "language_info": {
      "name": "python"
    }
  },
  "cells": [
    {
      "cell_type": "code",
      "execution_count": 2,
      "metadata": {
        "id": "yxYbpWC3UolD"
      },
      "outputs": [],
      "source": [
        "import numpy as np\n",
        "import sympy as sp\n",
        "from sympy import symbols,Eq,solve\n",
        "from scipy.stats import norm\n",
        "N = norm.cdf\n",
        "n = norm.pdf"
      ]
    },
    {
      "cell_type": "markdown",
      "source": [
        "Mid 1----------------------------------------------------------"
      ],
      "metadata": {
        "id": "AIB3nazobTa1"
      }
    },
    {
      "cell_type": "code",
      "source": [
        "#------------Mid1------------------\n",
        "#------------bid-------------------\n",
        "def find_bid(probability):\n",
        "    o = symbols(\"o\")\n",
        "    eq1 = o/(1+o)\n",
        "    re = solve(Eq(eq1,probability),o)\n",
        "    print(solve(Eq(eq1,probability),o))\n",
        "    return re\n",
        "find_bid(9/100)\n"
      ],
      "metadata": {
        "colab": {
          "base_uri": "https://localhost:8080/"
        },
        "id": "gngE_ciQUpen",
        "outputId": "b272dac4-7cf5-44eb-a978-6f77aec76cd4"
      },
      "execution_count": 4,
      "outputs": [
        {
          "output_type": "stream",
          "name": "stdout",
          "text": [
            "[0.0989010989010989]\n"
          ]
        },
        {
          "output_type": "execute_result",
          "data": {
            "text/plain": [
              "[0.0989010989010989]"
            ]
          },
          "metadata": {},
          "execution_count": 4
        }
      ]
    },
    {
      "cell_type": "code",
      "source": [
        "#_____________bet problem_________________\n",
        "def bet_cal(bid1,bid2,m,maxlose):\n",
        "    x = symbols(\"x\")\n",
        "    eq1 = (-x+bid2*(m-x))\n",
        "    eq2 = (bid1*x-(m-x))\n",
        "    profit = (m*(bid1*bid2-1))/(2+bid1+bid2)\n",
        "    n = m**2 / profit\n",
        "    print(\"bond1:\",solve(Eq((eq1),0)))\n",
        "    print(\"bond2:\",solve(Eq((eq2),0)))\n",
        "    print(\"x:\",solve(Eq(eq1,eq2),x))\n",
        "    print(\"profit:\",profit)\n",
        "    print(\"How much need to get\",m,\":\",n)\n",
        "    print(\"lose bond1:\",solve(Eq(eq1,maxlose)))\n",
        "    print(\"lose bond2:\",solve(Eq(eq2,maxlose)))\n",
        "    return\n",
        "bet_cal(5,1.4,100,-10)"
      ],
      "metadata": {
        "colab": {
          "base_uri": "https://localhost:8080/"
        },
        "id": "AaXvWjlAaWmn",
        "outputId": "bb63af01-05aa-4b99-fde6-d53628e2e313"
      },
      "execution_count": 3,
      "outputs": [
        {
          "output_type": "stream",
          "name": "stdout",
          "text": [
            "bond1: [58.3333333333333]\n",
            "bond2: [50/3]\n",
            "x: [28.5714285714286]\n",
            "profit: 71.42857142857143\n",
            "How much need to get 100 : 140.0\n",
            "lose bond1: [62.5000000000000]\n",
            "lose bond2: [15]\n"
          ]
        }
      ]
    },
    {
      "cell_type": "code",
      "source": [
        "#________________Horse bet______________\n",
        "def Horse_bet(first_bet, second_bet, third_bet, earn_in_totalbet_x_percent):\n",
        "    o = symbols(\"o\")\n",
        "    eqa = -first_bet*o + second_bet + third_bet\n",
        "    eqb = first_bet - second_bet*o + third_bet\n",
        "    eqc = first_bet + second_bet - o*third_bet\n",
        "    oa = solve(Eq(eqa, earn_in_totalbet_x_percent), o)\n",
        "    ob = solve(Eq(eqb, earn_in_totalbet_x_percent), o)\n",
        "    oc = solve(Eq(eqc, earn_in_totalbet_x_percent), o)\n",
        "    print(\"O_a:\", oa)\n",
        "    print(\"O_b:\", ob)\n",
        "    print(\"O_c:\", oc)\n",
        "    return\n",
        "Horse_bet(64000,27000,9000,10000)"
      ],
      "metadata": {
        "colab": {
          "base_uri": "https://localhost:8080/"
        },
        "id": "WYyXzKRhamQn",
        "outputId": "021ae113-9645-418d-b169-0cbec70b143d"
      },
      "execution_count": 6,
      "outputs": [
        {
          "output_type": "stream",
          "name": "stdout",
          "text": [
            "O_a: [13/32]\n",
            "O_b: [7/3]\n",
            "O_c: [9]\n"
          ]
        }
      ]
    },
    {
      "cell_type": "code",
      "source": [
        "#____Solve for Interest Rate Problem______\n",
        "print(np.log(79.5/110)/-4)\n"
      ],
      "metadata": {
        "colab": {
          "base_uri": "https://localhost:8080/"
        },
        "id": "J59tKw5mawxa",
        "outputId": "da33b6a9-f69b-494e-f00c-1f41e2248cb8"
      },
      "execution_count": 7,
      "outputs": [
        {
          "output_type": "stream",
          "name": "stdout",
          "text": [
            "0.08118083603303249\n"
          ]
        }
      ]
    },
    {
      "cell_type": "code",
      "source": [
        "#__________Mean_and_Variance______________\n",
        "x = [(4/14),(7/14),(3/14)]\n",
        "r = [7,10,14]\n",
        "def Mean_Variance(x, r):\n",
        "    Ex = []\n",
        "    varx = []\n",
        "    Re = []\n",
        "    for i,j in enumerate(x):\n",
        "        Ex.append(j * r[i])\n",
        "    for i,j in enumerate(x):\n",
        "        varx.append(j * r[i]**2)\n",
        "    Varx = sum(varx) - sum(Ex)**2\n",
        "    E_x = sum(Ex)\n",
        "    Re.append(E_x)\n",
        "    Re.append(Varx)\n",
        "    print (Re)\n",
        "    return Re\n",
        "Mean_Variance(x,r)"
      ],
      "metadata": {
        "colab": {
          "base_uri": "https://localhost:8080/"
        },
        "id": "-KR0t2xCa0qp",
        "outputId": "a865c020-6812-4629-b560-e01bc845c3c3"
      },
      "execution_count": 8,
      "outputs": [
        {
          "output_type": "stream",
          "name": "stdout",
          "text": [
            "[10.0, 6.0]\n"
          ]
        },
        {
          "output_type": "execute_result",
          "data": {
            "text/plain": [
              "[10.0, 6.0]"
            ]
          },
          "metadata": {},
          "execution_count": 8
        }
      ]
    },
    {
      "cell_type": "code",
      "source": [
        "#___________Tylar_Expansion__________\n",
        "x,y = sp.symbols(\"x,y\")\n",
        "#Change Equation Here\n",
        "f = sp.exp(x)*sp.log(1+y)\n",
        "def second_ty(f):\n",
        "    fx = sp.diff(f, x)\n",
        "    fy = sp.diff(f, y)\n",
        "    fxx = sp.diff(f, x, x)\n",
        "    fxy = sp.diff(f, x, y)\n",
        "    fyy = sp.diff(f, y, y)\n",
        "    x0 = 0\n",
        "    y0 = 0\n",
        "    f_val = f.subs([(x, x0), (y, y0)])\n",
        "    fx_val = fx.subs([(x, x0), (y, y0)])\n",
        "    fy_val = fy.subs([(x, x0), (y, y0)])\n",
        "    fxx_val = fxx.subs([(x, x0), (y, y0)])\n",
        "    fxy_val = fxy.subs([(x, x0), (y, y0)])\n",
        "    fyy_val = fyy.subs([(x, x0), (y, y0)])\n",
        "    print(f_val+fx_val*(x-x0)+fy_val*(y-y0)+(1/2)*fxx_val*(x-x0)**2+fxy_val*(x-x0)*(y-y0)+\\\n",
        "    (1/2)*fyy_val*(y-y0)**2)\n",
        "# Print the result\n",
        "    return\n",
        "second_ty(f)"
      ],
      "metadata": {
        "colab": {
          "base_uri": "https://localhost:8080/"
        },
        "id": "JbyKsQgMa82g",
        "outputId": "4a2fdb4e-697b-46ee-d140-ab509bfaf6ac"
      },
      "execution_count": 9,
      "outputs": [
        {
          "output_type": "stream",
          "name": "stdout",
          "text": [
            "x*y - 0.5*y**2 + y\n"
          ]
        }
      ]
    },
    {
      "cell_type": "markdown",
      "source": [
        "Mid 2--------------------------------------------------------"
      ],
      "metadata": {
        "id": "4UtdaQ1YbKeV"
      }
    },
    {
      "cell_type": "code",
      "source": [
        "#-------------------Mid2----------------------\n",
        "# Change this part for Black_scholes Calculation\n",
        "#------------------------------------------------------------\n",
        "S = 90\n",
        "K = 100\n",
        "T = 1\n",
        "r = 0.1\n",
        "sigma = 0.3\n",
        "#-------------------------------------------------------------\n",
        "\n",
        "def BS_CALL(S, K, T, r, sigma):\n",
        "    d1 = (np.log(S / K) + (r + sigma ** 2 / 2) * T) / (sigma * np.sqrt(T))\n",
        "    d2 = d1 - sigma * np.sqrt(T)\n",
        "    return S * N(d1) - K * np.exp(-r * T) * N(d2)\n",
        "\n",
        "def BS_PUT(S, K, T, r, sigma):\n",
        "    d1 = (np.log(S / K) + (r + sigma ** 2 / 2) * T) / (sigma * np.sqrt(T))\n",
        "    d2 = d1 - sigma * np.sqrt(T)\n",
        "    return K * np.exp(-r * T) * N(-d2) - S * N(-d1)\n",
        "\n",
        "def delta_call(S, K, T, r, sigma):\n",
        "    d1 = (np.log(S / K) + (r + sigma ** 2 / 2) * T) / (sigma * np.sqrt(T))\n",
        "    dt = N(d1)\n",
        "    return dt\n",
        "\n",
        "def vega(S, K, T, r, sigma):\n",
        "    d1 = (np.log(S / K) + (r + sigma ** 2 / 2) * T) / (sigma * np.sqrt(T))\n",
        "    ve = S * n(d1) * np.sqrt(T)\n",
        "    return ve\n",
        "\n",
        "def theta_call(S,K,T,r,sigma):\n",
        "    d1 = (np.log(S / K) + (r + sigma ** 2 / 2) * T) / (sigma * np.sqrt(T))\n",
        "    d2 = d1 - sigma * np.sqrt(T)\n",
        "    the = -((S * n(d1) * sigma)/(2 * np.sqrt(T))) - r * K * np.exp(-r * T) * N(d2)\n",
        "    return the\n",
        "\n",
        "def theta_put(S,K,T,r,sigma):\n",
        "    d1 = (np.log(S / K) + (r + sigma ** 2 / 2) * T) / (sigma * np.sqrt(T))\n",
        "    d2 = d1 - sigma * np.sqrt(T)\n",
        "    the = -((S * n(d1) * sigma) / (2 * np.sqrt(T))) + r * K * np.exp(-r * T) * N(-d2)\n",
        "    return the\n",
        "\n",
        "print(\"Value of Call:\",BS_CALL(S,K,T,r,sigma))\n",
        "print(\"Value of Put:\",BS_PUT(S,K,T,r,sigma))\n",
        "print(\"Call Delta\", delta_call(S,K,T,r,sigma))\n",
        "print(\"Put Delta\", delta_call(S,K,T,r,sigma)-1)\n",
        "print(\"Vega\", vega(S,K,T,r,sigma))\n",
        "print(\"Call Theta:\",theta_call(S,K,T,r,sigma))\n",
        "print(\"Put Theta:\",theta_put(S,K,T,r,sigma))"
      ],
      "metadata": {
        "id": "X2xMYehtbDhp"
      },
      "execution_count": null,
      "outputs": []
    },
    {
      "cell_type": "code",
      "source": [
        "#---------------MODE Calculation-----------\n",
        "# Change variable here!\n",
        "# miu in float!!!\n",
        "s = 100\n",
        "miu = 0.13\n",
        "sigma = 0.20\n",
        "T = 1\n",
        "#-------------------------------------------\n",
        "def MODE(s,miu,sigma,T):\n",
        "    S = s * np.exp((miu - (3/2) * sigma**2 )* T)\n",
        "    return S\n",
        "\n",
        "def Prob_mode(s,miu,sigma,T):\n",
        "    prob = (1 / (np.sqrt(2*np.pi))) * (1/s) * (np.exp((sigma**2-miu)*T)/(sigma * np.sqrt(T)))\n",
        "    return prob\n",
        "\n",
        "print(\"MODE Value:\", MODE(s,miu,sigma,T))\n",
        "print(\"Prob of MODE:\",Prob_mode(s,miu,sigma,T))"
      ],
      "metadata": {
        "id": "NWvrKZjmbYAF"
      },
      "execution_count": null,
      "outputs": []
    }
  ]
}